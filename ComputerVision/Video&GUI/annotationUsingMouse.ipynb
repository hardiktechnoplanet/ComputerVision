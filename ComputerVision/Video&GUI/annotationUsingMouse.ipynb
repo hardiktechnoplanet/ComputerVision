{
 "cells": [
  {
   "cell_type": "markdown",
   "metadata": {},
   "source": [
    "# This program shows how highgui enables us to take mouse inputs. We use mouse input to draw a circle on an image. The mouse is dragged from the center to one of the points on the circumference. ‘c’ can be pressed to remove the drawn circle"
   ]
  },
  {
   "cell_type": "code",
   "execution_count": 4,
   "metadata": {},
   "outputs": [],
   "source": [
    "import cv2\n",
    "import math"
   ]
  },
  {
   "cell_type": "code",
   "execution_count": 5,
   "metadata": {},
   "outputs": [],
   "source": [
    "# Lists to store the points\n",
    "center=[]\n",
    "circumference=[]"
   ]
  },
  {
   "cell_type": "markdown",
   "metadata": {},
   "source": [
    "drawCircle is the callback function associated with the namedwindow. It is called when there is a mouse event like left click.\n",
    "\n",
    "The coordinates relative to the namedWindow is captured by this function in the variables (x,y). The function records the points of the circle’s center and a point on the circumference, hence allowing us to draw the desired circle on the image."
   ]
  },
  {
   "cell_type": "code",
   "execution_count": 11,
   "metadata": {},
   "outputs": [],
   "source": [
    "def drawCircle(action,x,y,flags,userdata):\n",
    "    # Global variables\n",
    "    global center,circumference\n",
    "    # Action to be taken on left mouse button press\n",
    "    if (action==cv2.EVENT_LBUTTONDOWN):\n",
    "        center=[(x,y)]\n",
    "        # Mark the center\n",
    "        cv2.circle(source,center[0],1,(255,255,0),2,cv2.LINE_AA);\n",
    "        \n",
    "    # Action to be taken when left mouse button is release\n",
    "    elif (action==cv2.EVENT_LBUTTONUP):\n",
    "        circumference=[(x,y)]\n",
    "        #Calculate radius of the circle\n",
    "        radius = math.sqrt(math.pow(center[0][0]-circumference[0][0],2)+\n",
    "                        math.pow(center[0][1]-circumference[0][1],2))\n",
    "        # Draw the circle\n",
    "        cv2.circle(source, center[0], int(radius), (0,255,0),2, \n",
    "                    cv2.LINE_AA)\n",
    "        cv2.imshow(\"Window\",source)"
   ]
  },
  {
   "cell_type": "code",
   "execution_count": 12,
   "metadata": {},
   "outputs": [],
   "source": [
    "source = cv2.imread(\"sample.jpg\",1)\n",
    "# Make a dummy image, will be useful to clear the drawing\n",
    "dummy = source.copy()\n",
    "cv2.namedWindow(\"Window\")\n",
    "# highgui function called when mouse events occur\n",
    "cv2.setMouseCallback(\"Window\", drawCircle)\n",
    "k = 0\n",
    "# loop until escape character is pressed\n",
    "while k!=27 :\n",
    "\n",
    "    cv2.imshow(\"Window\", source)\n",
    "    cv2.putText(source,'''Choose center, and drag, \n",
    "                      Press ESC to exit and c to clear''' ,\n",
    "              (10,30), cv2.FONT_HERSHEY_SIMPLEX, \n",
    "              0.7,(255,255,255), 2 );\n",
    "    k = cv2.waitKey(20) & 0xFF\n",
    "    # Another way of cloning\n",
    "    if k==99:\n",
    "        source= dummy.copy()\n",
    "\n",
    "\n",
    "cv2.destroyAllWindows()"
   ]
  },
  {
   "cell_type": "code",
   "execution_count": null,
   "metadata": {},
   "outputs": [],
   "source": []
  }
 ],
 "metadata": {
  "kernelspec": {
   "display_name": "Python 3",
   "language": "python",
   "name": "python3"
  },
  "language_info": {
   "codemirror_mode": {
    "name": "ipython",
    "version": 3
   },
   "file_extension": ".py",
   "mimetype": "text/x-python",
   "name": "python",
   "nbconvert_exporter": "python",
   "pygments_lexer": "ipython3",
   "version": "3.6.6"
  }
 },
 "nbformat": 4,
 "nbformat_minor": 2
}
