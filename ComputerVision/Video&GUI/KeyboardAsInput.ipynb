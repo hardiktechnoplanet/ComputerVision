{
 "cells": [
  {
   "cell_type": "code",
   "execution_count": 3,
   "metadata": {},
   "outputs": [],
   "source": [
    "import cv2"
   ]
  },
  {
   "cell_type": "code",
   "execution_count": null,
   "metadata": {},
   "outputs": [],
   "source": [
    "# Open webcam\n",
    "cap=cv2.VideoCapture(0)\n",
    "var=0\n",
    "\n",
    "while(True):\n",
    "    # Read frame\n",
    "    ret,frame=cap.read()\n",
    "    \n",
    "# Identify if 'ESC' key is pressed or not\n",
    "if(var==27):\n",
    "    break\n",
    "\n",
    "# Identify if 'e' or 'E' is pressed\n",
    "if(var==101 or var==69):\n",
    "    cv2.putText(frame,\"E is pressed, press Z or ESC\",\n",
    "               (100,180),cv2.FONT_HERSHEY_SIMPLEX,\n",
    "               1,(0,255,0),3);\n",
    "# Identify if 'z' or 'Z' is pressed\n",
    "if(var==90 or var==122):\n",
    "    cv2.putText(frame,\"Z is pressed\",(100,180),\n",
    "               cv2.FONT_HERSHEY_SIMPLEX,1,(0,255,0),3)\n",
    "cv2.imshow(\"Image\",frame)\n",
    "# Increase waitkey to show display properly\n",
    "var=cv2.waitKey(10000) & 0xFF\n",
    "\n",
    "cap.release()\n",
    "cv2.destroyAllWindows()"
   ]
  }
 ],
 "metadata": {
  "kernelspec": {
   "display_name": "Python 3",
   "language": "python",
   "name": "python3"
  },
  "language_info": {
   "codemirror_mode": {
    "name": "ipython",
    "version": 3
   },
   "file_extension": ".py",
   "mimetype": "text/x-python",
   "name": "python",
   "nbconvert_exporter": "python",
   "pygments_lexer": "ipython3",
   "version": "3.6.6"
  }
 },
 "nbformat": 4,
 "nbformat_minor": 2
}
