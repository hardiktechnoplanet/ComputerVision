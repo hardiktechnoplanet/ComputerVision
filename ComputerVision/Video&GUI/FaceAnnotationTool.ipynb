{
 "cells": [
  {
   "cell_type": "markdown",
   "metadata": {},
   "source": [
    "A GUI application which will let the user create a bounding box around a face present in the input image and save the cropped face automatically."
   ]
  },
  {
   "cell_type": "code",
   "execution_count": 1,
   "metadata": {},
   "outputs": [],
   "source": [
    "import cv2"
   ]
  },
  {
   "cell_type": "code",
   "execution_count": 2,
   "metadata": {},
   "outputs": [],
   "source": [
    "# List to store the coordinates\n",
    "coordinates=[]"
   ]
  },
  {
   "cell_type": "code",
   "execution_count": 3,
   "metadata": {},
   "outputs": [],
   "source": [
    "# Call back funtion for mouse events\n",
    "def drawRect(action,x,y,flags,userdata):\n",
    "    # Referencing global variables\n",
    "    global coordinates\n",
    "    # Action when mouse left button is pressed, record the starting\n",
    "\t# (x, y) coordinates\n",
    "    if(action==cv2.EVENT_LBUTTONDOWN):\n",
    "        coordinates=[(x,y)]\n",
    "    # Action when mouse left button is released\n",
    "    elif(action==cv2.EVENT_LBUTTONUP):\n",
    "        #record the ending (x, y) coordinates\n",
    "        coordinates.append((x,y))\n",
    "        \n",
    "        # Draw a rectangle around the ROI\n",
    "        cv2.rectangle(source,coordinates[0],coordinates[1],(0,255,0),2)\n",
    "        cv2.imshow(\"Window\",source)\n",
    "        \n",
    "        # If there are two reference points (2 entries in the \"coordinates\"),\n",
    "        # then crop the ROI and save it\n",
    "        if(len(coordinates)==2):\n",
    "            roi=dummy[coordinates[0][1]:coordinates[1][1],\n",
    "                 coordinates[0][0]:coordinates[1][0]]\n",
    "            cv2.imwrite(\"face.png\",roi)  "
   ]
  },
  {
   "cell_type": "code",
   "execution_count": 4,
   "metadata": {},
   "outputs": [],
   "source": [
    "# Load the image\n",
    "source = cv2.imread(\"sample.jpg\",1)\n",
    "# Make a dummy image, will be useful to clear the drawing\n",
    "dummy = source.copy()\n",
    "cv2.namedWindow(\"Window\")\n",
    "# Setup the call back funtion\n",
    "cv2.setMouseCallback(\"Window\", drawRect)\n",
    "k = 0\n",
    "# loop until escape character is pressed\n",
    "while k!=27 :\n",
    "\n",
    "    cv2.imshow(\"Window\", source)\n",
    "    cv2.putText(source,'''Choose top left corner, and drag,\n",
    "                      ''' ,\n",
    "              (10,30), cv2.FONT_HERSHEY_SIMPLEX, \n",
    "              0.7,(255,255,255), 2 );\n",
    "    k = cv2.waitKey(20) & 0xFF\n",
    " \n",
    "# Close all the windows\n",
    "cv2.destroyAllWindows()"
   ]
  },
  {
   "cell_type": "code",
   "execution_count": null,
   "metadata": {},
   "outputs": [],
   "source": []
  }
 ],
 "metadata": {
  "kernelspec": {
   "display_name": "Python 3",
   "language": "python",
   "name": "python3"
  },
  "language_info": {
   "codemirror_mode": {
    "name": "ipython",
    "version": 3
   },
   "file_extension": ".py",
   "mimetype": "text/x-python",
   "name": "python",
   "nbconvert_exporter": "python",
   "pygments_lexer": "ipython3",
   "version": "3.6.6"
  }
 },
 "nbformat": 4,
 "nbformat_minor": 2
}
