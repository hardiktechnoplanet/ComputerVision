{
 "cells": [
  {
   "cell_type": "markdown",
   "metadata": {},
   "source": [
    "# Thresholding operation to illustrate the usage of trackbars.\n",
    "Lower track bar will be used to determine if the user wants to scale up or scale down the image. Upper track bar will determine the amount of scaling."
   ]
  },
  {
   "cell_type": "code",
   "execution_count": 86,
   "metadata": {},
   "outputs": [],
   "source": [
    "import cv2"
   ]
  },
  {
   "cell_type": "code",
   "execution_count": 87,
   "metadata": {},
   "outputs": [],
   "source": [
    "# ScaleFactor and scaleType are the variables where the values will be updated whenever there is an event on the trackbar.\n",
    "# MaxScaleUp and maxType are constants which specify the maximum values the trackbars can take\n",
    "\n",
    "maxScaleUp = 100\n",
    "scaleFactor = 1\n",
    "scaleType = 0\n",
    "maxType = 1"
   ]
  },
  {
   "cell_type": "code",
   "execution_count": 88,
   "metadata": {},
   "outputs": [],
   "source": [
    "# WindowName is the name of the window where the trackbars are displayed.\n",
    "windowName = \"Resize Image\"\n",
    "trackbarValue = \"Scale\"\n",
    "trackbarType = \"Type: \\n 0: Scale Up \\n 1: Scale Down\""
   ]
  },
  {
   "cell_type": "code",
   "execution_count": 89,
   "metadata": {},
   "outputs": [],
   "source": [
    "# load an image\n",
    "im = cv2.imread(\"truth.png\")\n",
    "\n",
    "# Create a window to display results\n",
    "cv2.namedWindow(windowName, cv2.WINDOW_AUTOSIZE)"
   ]
  },
  {
   "cell_type": "code",
   "execution_count": 90,
   "metadata": {},
   "outputs": [],
   "source": [
    "# ScaleImage and scaleTypeImage are the CALLBACK functions\n",
    "# These are the callback functions which are called every time the trackbars are used. \n",
    "# Whenever there is any activity on the trackbars, these function get called and the values \n",
    "# on the trackbars are updated in the variables associated with the trackbars.\n",
    "def scaleImage(*args):\n",
    "    global scaleFactor\n",
    "    global scaleType\n",
    "    # Scale up\n",
    "    if(scaleType==0):\n",
    "        scaleFactor = 1+ args[0]/100.0\n",
    "    # Scale down\n",
    "    else:\n",
    "        scaleFactor= 1- args[0]/100.0\n",
    "    if scaleFactor == 0:\n",
    "        scaleFactor = 0.01\n",
    "    scaledImage = cv2.resize(im, None, fx=scaleFactor,\\\n",
    "            fy = scaleFactor, interpolation = cv2.INTER_LINEAR)\n",
    "    cv2.imshow(windowName, scaledImage)\n",
    "    \n",
    "# Callback functions\n",
    "# Whenever this function is called, scaletype value is set and the \"scaleImage\" function will \n",
    "# use this value to determine if it has to scale up or down.\n",
    "def scaleTypeImage(*args):\n",
    "    global scaleType\n",
    "    #global scaleFactor\n",
    "    # Set the scaling type in variable \"scaleType\"\n",
    "    scaleType = args[0]\n",
    "    \n",
    "cv2.createTrackbar(trackbarValue, windowName, scaleFactor, maxScaleUp, scaleImage)\n",
    "cv2.createTrackbar(trackbarType, windowName, scaleType, maxType, scaleTypeImage)\n",
    "\n",
    "scaleImage(25)\n",
    "\n",
    "while True:\n",
    "    c = cv2.waitKey(20)\n",
    "    if c==27:\n",
    "        break\n",
    "\n",
    "cv2.destroyAllWindows()"
   ]
  },
  {
   "cell_type": "code",
   "execution_count": null,
   "metadata": {},
   "outputs": [],
   "source": []
  }
 ],
 "metadata": {
  "kernelspec": {
   "display_name": "Python 3",
   "language": "python",
   "name": "python3"
  },
  "language_info": {
   "codemirror_mode": {
    "name": "ipython",
    "version": 3
   },
   "file_extension": ".py",
   "mimetype": "text/x-python",
   "name": "python",
   "nbconvert_exporter": "python",
   "pygments_lexer": "ipython3",
   "version": "3.6.6"
  }
 },
 "nbformat": 4,
 "nbformat_minor": 2
}
