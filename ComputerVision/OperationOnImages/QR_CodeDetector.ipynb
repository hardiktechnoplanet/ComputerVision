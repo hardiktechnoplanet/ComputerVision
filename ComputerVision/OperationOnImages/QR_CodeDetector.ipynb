{
 "cells": [
  {
   "cell_type": "code",
   "execution_count": 15,
   "metadata": {},
   "outputs": [],
   "source": [
    "%matplotlib inline\n",
    "\n",
    "# Import modules\n",
    "import cv2\n",
    "import matplotlib.pyplot as plt\n",
    "import numpy as np\n",
    "import sys\n",
    "import time"
   ]
  },
  {
   "cell_type": "code",
   "execution_count": 16,
   "metadata": {},
   "outputs": [],
   "source": [
    "import matplotlib\n",
    "matplotlib.rcParams['figure.figsize'] = (10.0, 10.0)"
   ]
  },
  {
   "cell_type": "code",
   "execution_count": 20,
   "metadata": {},
   "outputs": [],
   "source": [
    "# Image Path\n",
    "imgPath = \"IDCard-Satya.png\"\n",
    "\n",
    "# Read image\n",
    "inputImage=cv2.imread(imgPath)"
   ]
  },
  {
   "cell_type": "code",
   "execution_count": 21,
   "metadata": {},
   "outputs": [],
   "source": [
    "# Display barcode and QR code location\n",
    "def display(im, bbox):\n",
    "    n = len(bbox)\n",
    "    for j in range(n):\n",
    "        cv2.line(im, tuple(bbox[j][0]), tuple(bbox[ (j+1) % n][0]), (255,0,0), 3)\n",
    "\n",
    "    # Display results\n",
    "    cv2.imshow(\"Results\", im)"
   ]
  },
  {
   "cell_type": "code",
   "execution_count": 23,
   "metadata": {},
   "outputs": [
    {
     "name": "stdout",
     "output_type": "stream",
     "text": [
      "QR Code not detected\n"
     ]
    }
   ],
   "source": [
    "# Create a qrCodeDetector Object\n",
    "qrDecoder = cv2.QRCodeDetector()\n",
    "\n",
    "# Detect and decode the qrcode\n",
    "data,bbox,rectifiedImage = qrDecoder.detectAndDecode(inputImage)\n",
    "#print(\"Time Taken for Detect and Decode : {:.3f} seconds\".format(time.time() - t))\n",
    "if len(data)>0:\n",
    "    print(\"Decoded Data : {}\".format(data))\n",
    "    display(inputImage, bbox)\n",
    "    rectifiedImage = np.uint8(rectifiedImage);\n",
    "    cv2.imshow(\"Rectified QRCode\", rectifiedImage);\n",
    "else:\n",
    "    print(\"QR Code not detected\")\n",
    "    cv2.imshow(\"Results\", inputImage)\n",
    "cv2.imwrite(\"output.jpg\",inputImage)\n",
    "cv2.waitKey(0)\n",
    "cv2.destroyAllWindows()"
   ]
  },
  {
   "cell_type": "code",
   "execution_count": null,
   "metadata": {},
   "outputs": [],
   "source": []
  }
 ],
 "metadata": {
  "kernelspec": {
   "display_name": "Python 3",
   "language": "python",
   "name": "python3"
  },
  "language_info": {
   "codemirror_mode": {
    "name": "ipython",
    "version": 3
   },
   "file_extension": ".py",
   "mimetype": "text/x-python",
   "name": "python",
   "nbconvert_exporter": "python",
   "pygments_lexer": "ipython3",
   "version": "3.6.5"
  }
 },
 "nbformat": 4,
 "nbformat_minor": 2
}
